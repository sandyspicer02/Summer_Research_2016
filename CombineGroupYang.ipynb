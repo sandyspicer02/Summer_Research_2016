{
 "cells": [
  {
   "cell_type": "markdown",
   "metadata": {},
   "source": [
    "From Petro/Model C combine information of galaxies to be appended to NSA catalog\n",
    "\n",
    "Table 1.\n",
    "    Galaxy ID --> Group ID\n",
    "    Brightest?\n",
    "    Largest?\n",
    "\n",
    "Table 2.\n",
    "    nothing\n",
    "\n",
    "Table 3.\n",
    "    Group ID --> Group Info\n",
    "    RA, DEC, Z\n",
    "    Luminosity\n",
    "    Mass\n",
    "    "
   ]
  },
  {
   "cell_type": "code",
   "execution_count": 97,
   "metadata": {
    "collapsed": true
   },
   "outputs": [],
   "source": [
    "import csv\n",
    "import numpy as np\n",
    "from astropy.io import fits\n",
    "import glob"
   ]
  },
  {
   "cell_type": "code",
   "execution_count": 135,
   "metadata": {
    "collapsed": false
   },
   "outputs": [],
   "source": [
    "def combineTable(t1,t2):\n",
    "    t1 = np.array(t1)\n",
    "    t2 = np.array(t2)\n",
    "    combinedArray = np.empty((639359,17),'f')\n",
    "    i = 0\n",
    "    combinedArray[:,0:5] = t1[0:5,:].T\n",
    "    for row in combinedArray:\n",
    "        if row[2] !=0:\n",
    "            combinedArray[i,5:18] = t2[1:13,row[2]+2]\n",
    "        i= i+1\n",
    "    return combinedArray"
   ]
  },
  {
   "cell_type": "code",
   "execution_count": 3,
   "metadata": {
    "collapsed": false
   },
   "outputs": [],
   "source": [
    "#Convert space seperated variable tables to csv\n",
    "\n",
    "infiles = glob.glob('*C_*')\n",
    "infiles = set(infiles)-set(glob.glob('*.csv'))\n",
    "for doc in infiles:\n",
    "    with open(doc) as fin, open(doc+'.csv','w') as fout:\n",
    "        o=csv.writer(fout)\n",
    "        for line in fin:\n",
    "            o.writerow(line.split())"
   ]
  },
  {
   "cell_type": "code",
   "execution_count": 101,
   "metadata": {
    "collapsed": false
   },
   "outputs": [],
   "source": [
    "p1 = np.loadtxt('ipetroC_1.csv',delimiter=',',unpack=True,dtype=float)\n",
    "p3 = np.loadtxt('petroC_group.csv',delimiter=',',unpack=True,dtype=float)\n",
    "m1 = np.loadtxt('imodelC_1.csv',delimiter=',',unpack=True,dtype=float)\n",
    "m3 = np.loadtxt('modelC_group.csv',delimiter=',',unpack=True,dtype=float)"
   ]
  },
  {
   "cell_type": "code",
   "execution_count": 142,
   "metadata": {
    "collapsed": false
   },
   "outputs": [
    {
     "name": "stderr",
     "output_type": "stream",
     "text": [
      "/anaconda/lib/python2.7/site-packages/ipykernel/__main__.py:9: DeprecationWarning: using a non-integer number instead of an integer will result in an error in the future\n"
     ]
    }
   ],
   "source": [
    "bigPetro = combineTable(p1,p3)\n",
    "bigModel = combineTable(m1,m3)\n",
    "np.savetxt(\"bigPetro.csv\", bigPetro, delimiter=\",\")\n",
    "np.savetxt(\"bigModel.csv\", bigModel, delimiter=\",\")"
   ]
  }
 ],
 "metadata": {
  "kernelspec": {
   "display_name": "Python 2",
   "language": "python",
   "name": "python2"
  },
  "language_info": {
   "codemirror_mode": {
    "name": "ipython",
    "version": 2
   },
   "file_extension": ".py",
   "mimetype": "text/x-python",
   "name": "python",
   "nbconvert_exporter": "python",
   "pygments_lexer": "ipython2",
   "version": "2.7.11"
  }
 },
 "nbformat": 4,
 "nbformat_minor": 0
}
