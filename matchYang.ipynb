{
 "cells": [
  {
   "cell_type": "code",
   "execution_count": 2,
   "metadata": {
    "collapsed": false
   },
   "outputs": [],
   "source": [
    "import csv\n",
    "import numpy as np\n",
    "from astropy.io import fits\n",
    "import glob"
   ]
  },
  {
   "cell_type": "code",
   "execution_count": 21,
   "metadata": {
    "collapsed": true
   },
   "outputs": [],
   "source": [
    "def findnearest(x1,y1,x2,y2,delta):#use where command\n",
    "    matchflag=1\n",
    "    nmatch=0\n",
    "    d=np.sqrt((x1-x2)**2 + (y1-y2)**2)#x2 and y2 are arrays\n",
    "    index=np.arange(len(d))\n",
    "    t=index[d<delta]\n",
    "    matches=t\n",
    "    if len(matches) > 0:\n",
    "        nmatch=len(matches)\n",
    "        if nmatch > 1:\n",
    "            imatch=index[(d == min(d[t]))]\n",
    "        else:\n",
    "            imatch=matches[0]\n",
    "    else:\n",
    "        imatch = 0\n",
    "        matchflag = 0\n",
    "\n",
    "    return imatch, matchflag,nmatch"
   ]
  },
  {
   "cell_type": "code",
   "execution_count": 3,
   "metadata": {
    "collapsed": false
   },
   "outputs": [],
   "source": [
    "with open('SDSS7') as fin, open('SDSS7csv.csv','w') as fout:\n",
    "    o=csv.writer(fout)\n",
    "    for line in fin:\n",
    "        o.writerow(line.split())"
   ]
  },
  {
   "cell_type": "code",
   "execution_count": 4,
   "metadata": {
    "collapsed": false
   },
   "outputs": [],
   "source": [
    "yang = np.loadtxt('SDSS7csv.csv',delimiter=',',unpack=True,dtype=float)\n",
    "nsa =fits.getdata('nsa_v0_1_2.fits')"
   ]
  },
  {
   "cell_type": "code",
   "execution_count": 5,
   "metadata": {
    "collapsed": false
   },
   "outputs": [],
   "source": [
    "yRA = yang[2]\n",
    "yDEC = yang[3]\n",
    "yZ = yang[4]\n",
    "nRA = nsa.field(2)\n",
    "nDEC = nsa.field(3)\n",
    "nZ = nsa.field(11)"
   ]
  },
  {
   "cell_type": "code",
   "execution_count": 23,
   "metadata": {
    "collapsed": false
   },
   "outputs": [
    {
     "name": "stdout",
     "output_type": "stream",
     "text": [
      "Found match in radius at: 25502\n",
      "Found match in radius at: 25284\n",
      "Found match in radius at: 25283\n"
     ]
    }
   ],
   "source": [
    "matchRadius=0.1/3600\n",
    "\n",
    "indMatch = np.zeros(len(nRA),\"i\")\n",
    "matchFlag = np.zeros(len(nRA),\"i\")\n",
    "numMatches = np.zeros(len(nRA),\"i\")\n",
    "\n",
    "for i in range(10):\n",
    "    indMatch[i], matchFlag[i], numMatches[i] = findnearest(nRA[i],nDEC[i],yRA,yDEC,matchRadius)\n",
    "    \n",
    "    if matchFlag[i] == 1:\n",
    "        print \"Found match in radius at:\", indMatch[i]\n",
    "outfile = 'NSAtoYang.fits'\n",
    "origColumns = nsa.columns\n",
    "newColumns = []\n",
    "for col in yang.columns.names:\n",
    "    print col\n",
    "\n",
    "\n",
    "\n",
    "    #d =(np.sqrt((nRA[i]-yRA)**2 + (nDEC[i]-yDEC)**2))\n",
    "    #minMatch = np.where(d == min(d))\n",
    "    #if d[minMatch[0]]<matchRadius:\n",
    "     #   print \"Found match in radius at:\", minMatch\n",
    "     #   newColumns.append(yang[:,minMatch])   "
   ]
  },
  {
   "cell_type": "code",
   "execution_count": null,
   "metadata": {
    "collapsed": true
   },
   "outputs": [],
   "source": [
    "outfile=name+'_matchNSAtoAGC.fits'\n",
    "    \n",
    "    orig_cols = agcdat.columns\n",
    "    new_cols = []\n",
    "    for col in nsadat.columns.names:\n",
    "        print col\n",
    "        base=nsadat[col]\n",
    "        print base.shape,matchflag.shape\n",
    "        a=nsadat[col][imatch]*matchflag + np.zeros(len(nsadat[col]))*matchflag\n",
    "        #new_cols.append(a)\n",
    "        #print a.shape\n",
    "                                        \n",
    "        t=fits.Column(name=col, array=a)\n",
    "        new_cols.append(t)\n",
    "    fits.ColDefs([new_cols])\n",
    "    hdu = fits.BinTableHDU.from_columns(orig_cols + new_cols)\n",
    "    \n",
    "    hdu.writeto(outfile,clobber='yes')"
   ]
  },
  {
   "cell_type": "code",
   "execution_count": 8,
   "metadata": {
    "collapsed": false
   },
   "outputs": [
    {
     "ename": "ValueError",
     "evalue": "Must specify format to construct Column.",
     "output_type": "error",
     "traceback": [
      "\u001b[0;31m---------------------------------------------------------------------------\u001b[0m",
      "\u001b[0;31mValueError\u001b[0m                                Traceback (most recent call last)",
      "\u001b[0;32m<ipython-input-8-feec3c89462b>\u001b[0m in \u001b[0;36m<module>\u001b[0;34m()\u001b[0m\n\u001b[1;32m     14\u001b[0m     \u001b[0mColorIndModel\u001b[0m\u001b[0;34m.\u001b[0m\u001b[0mappend\u001b[0m\u001b[0;34m(\u001b[0m\u001b[0mrow\u001b[0m\u001b[0;34m[\u001b[0m\u001b[0;36m11\u001b[0m\u001b[0;34m]\u001b[0m\u001b[0;34m)\u001b[0m\u001b[0;34m\u001b[0m\u001b[0m\n\u001b[1;32m     15\u001b[0m \u001b[0;34m\u001b[0m\u001b[0m\n\u001b[0;32m---> 16\u001b[0;31m \u001b[0mcol1\u001b[0m \u001b[0;34m=\u001b[0m \u001b[0mfits\u001b[0m\u001b[0;34m.\u001b[0m\u001b[0mColumn\u001b[0m\u001b[0;34m(\u001b[0m\u001b[0mname\u001b[0m\u001b[0;34m=\u001b[0m\u001b[0;34m'AppMag'\u001b[0m\u001b[0;34m,\u001b[0m\u001b[0marray\u001b[0m\u001b[0;34m=\u001b[0m\u001b[0mAppMag\u001b[0m\u001b[0;34m)\u001b[0m\u001b[0;34m\u001b[0m\u001b[0m\n\u001b[0m\u001b[1;32m     17\u001b[0m \u001b[0mcol2\u001b[0m \u001b[0;34m=\u001b[0m \u001b[0mfits\u001b[0m\u001b[0;34m.\u001b[0m\u001b[0mColumn\u001b[0m\u001b[0;34m(\u001b[0m\u001b[0mname\u001b[0m\u001b[0;34m=\u001b[0m\u001b[0;34m'MagLim'\u001b[0m\u001b[0;34m,\u001b[0m\u001b[0marray\u001b[0m\u001b[0;34m=\u001b[0m\u001b[0mMagLim\u001b[0m\u001b[0;34m)\u001b[0m\u001b[0;34m\u001b[0m\u001b[0m\n\u001b[1;32m     18\u001b[0m \u001b[0mcol3\u001b[0m \u001b[0;34m=\u001b[0m \u001b[0mfits\u001b[0m\u001b[0;34m.\u001b[0m\u001b[0mColumn\u001b[0m\u001b[0;34m(\u001b[0m\u001b[0mname\u001b[0m\u001b[0;34m=\u001b[0m\u001b[0;34m'AbsMagPetro'\u001b[0m\u001b[0;34m,\u001b[0m\u001b[0marray\u001b[0m\u001b[0;34m=\u001b[0m\u001b[0mAbsMagPetro\u001b[0m\u001b[0;34m)\u001b[0m\u001b[0;34m\u001b[0m\u001b[0m\n",
      "\u001b[0;32m//anaconda/lib/python2.7/site-packages/astropy/io/fits/column.pyc\u001b[0m in \u001b[0;36m__init__\u001b[0;34m(self, name, format, unit, null, bscale, bzero, disp, start, dim, array, ascii)\u001b[0m\n\u001b[1;32m    518\u001b[0m \u001b[0;34m\u001b[0m\u001b[0m\n\u001b[1;32m    519\u001b[0m         \u001b[0;32mif\u001b[0m \u001b[0mformat\u001b[0m \u001b[0;32mis\u001b[0m \u001b[0mNone\u001b[0m\u001b[0;34m:\u001b[0m\u001b[0;34m\u001b[0m\u001b[0m\n\u001b[0;32m--> 520\u001b[0;31m             \u001b[0;32mraise\u001b[0m \u001b[0mValueError\u001b[0m\u001b[0;34m(\u001b[0m\u001b[0;34m'Must specify format to construct Column.'\u001b[0m\u001b[0;34m)\u001b[0m\u001b[0;34m\u001b[0m\u001b[0m\n\u001b[0m\u001b[1;32m    521\u001b[0m \u001b[0;34m\u001b[0m\u001b[0m\n\u001b[1;32m    522\u001b[0m         \u001b[0;31m# any of the input argument (except array) can be a Card or just\u001b[0m\u001b[0;34m\u001b[0m\u001b[0;34m\u001b[0m\u001b[0m\n",
      "\u001b[0;31mValueError\u001b[0m: Must specify format to construct Column."
     ]
    }
   ],
   "source": [
    "AppMag = []\n",
    "MagLim = []\n",
    "AbsMagPetro = []\n",
    "ColorIndPetro = []\n",
    "AbsMagModel = []\n",
    "ColorIndModel = []\n",
    "\n",
    "for row in newColumns:\n",
    "    AppMag.append(row[5])\n",
    "    MagLim.append(row[6])\n",
    "    AbsMagPetro.append(row[8])\n",
    "    ColorIndPetro.append(row[9])\n",
    "    AbsMagModel.append(row[10])\n",
    "    ColorIndModel.append(row[11])\n",
    "\n",
    "col1 = fits.Column(name='AppMag',array=AppMag)\n",
    "col2 = fits.Column(name='MagLim',array=MagLim)\n",
    "col3 = fits.Column(name='AbsMagPetro',array=AbsMagPetro)\n",
    "col4 = fits.Column(name='ColorIndPetro',array=ColorIndPetro)\n",
    "col5 = fits.Column(name='AbsMagModel',array=AbsMagModel)\n",
    "col6 = fits.Column(name='ColorIndModel',array=ColorIndModel)"
   ]
  },
  {
   "cell_type": "code",
   "execution_count": 9,
   "metadata": {
    "collapsed": false
   },
   "outputs": [
    {
     "data": {
      "text/plain": [
       "[array([[  2.55030000e+04],\n",
       "        [  1.82359000e+05],\n",
       "        [  1.47329501e+02],\n",
       "        [  2.89011110e-02],\n",
       "        [  4.80858000e-02],\n",
       "        [  1.55362005e+01],\n",
       "        [  1.76000004e+01],\n",
       "        [  9.21875000e-01],\n",
       "        [ -2.03655033e+01],\n",
       "        [  7.73447900e-01],\n",
       "        [ -2.04229164e+01],\n",
       "        [  8.23397500e-01],\n",
       "        [  1.00000000e+00]]), array([[  2.52850000e+04],\n",
       "        [  1.81355000e+05],\n",
       "        [  1.46856763e+02],\n",
       "        [ -2.74070678e-01],\n",
       "        [  2.19646000e-02],\n",
       "        [  1.75422802e+01],\n",
       "        [  1.76000004e+01],\n",
       "        [  9.21875000e-01],\n",
       "        [ -1.66009808e+01],\n",
       "        [  3.40493300e-01],\n",
       "        [ -1.64808044e+01],\n",
       "        [  3.56411000e-01],\n",
       "        [  1.00000000e+00]]), array([[  1.01270000e+04],\n",
       "        [  6.86950000e+04],\n",
       "        [  1.46594466e+02],\n",
       "        [ -1.33161028e-01],\n",
       "        [  4.56523000e-02],\n",
       "        [  1.72677307e+01],\n",
       "        [  1.76000004e+01],\n",
       "        [  9.21875000e-01],\n",
       "        [ -1.84422073e+01],\n",
       "        [  5.57343700e-01],\n",
       "        [ -1.84716396e+01],\n",
       "        [  6.02210200e-01],\n",
       "        [  1.00000000e+00]]), array([[  2.52840000e+04],\n",
       "        [  1.81348000e+05],\n",
       "        [  1.46751725e+02],\n",
       "        [ -4.08405758e-01],\n",
       "        [  3.58083000e-02],\n",
       "        [  1.56733313e+01],\n",
       "        [  1.76000004e+01],\n",
       "        [  9.21875000e-01],\n",
       "        [ -1.95020313e+01],\n",
       "        [  4.54421800e-01],\n",
       "        [ -1.94888306e+01],\n",
       "        [  5.07774200e-01],\n",
       "        [  1.00000000e+00]])]"
      ]
     },
     "execution_count": 9,
     "metadata": {},
     "output_type": "execute_result"
    }
   ],
   "source": [
    "newColumns\n"
   ]
  },
  {
   "cell_type": "code",
   "execution_count": 24,
   "metadata": {
    "collapsed": false
   },
   "outputs": [
    {
     "ename": "AttributeError",
     "evalue": "'numpy.ndarray' object has no attribute 'columns'",
     "output_type": "error",
     "traceback": [
      "\u001b[0;31m---------------------------------------------------------------------------\u001b[0m",
      "\u001b[0;31mAttributeError\u001b[0m                            Traceback (most recent call last)",
      "\u001b[0;32m<ipython-input-24-cb8ce54e24fc>\u001b[0m in \u001b[0;36m<module>\u001b[0;34m()\u001b[0m\n\u001b[0;32m----> 1\u001b[0;31m \u001b[0myang\u001b[0m\u001b[0;34m.\u001b[0m\u001b[0mcolumns\u001b[0m\u001b[0;34m.\u001b[0m\u001b[0mnames\u001b[0m\u001b[0;34m\u001b[0m\u001b[0m\n\u001b[0m",
      "\u001b[0;31mAttributeError\u001b[0m: 'numpy.ndarray' object has no attribute 'columns'"
     ]
    }
   ],
   "source": [
    "yang.columns.names"
   ]
  },
  {
   "cell_type": "code",
   "execution_count": null,
   "metadata": {
    "collapsed": true
   },
   "outputs": [],
   "source": []
  }
 ],
 "metadata": {
  "kernelspec": {
   "display_name": "Python 2",
   "language": "python",
   "name": "python2"
  },
  "language_info": {
   "codemirror_mode": {
    "name": "ipython",
    "version": 2
   },
   "file_extension": ".py",
   "mimetype": "text/x-python",
   "name": "python",
   "nbconvert_exporter": "python",
   "pygments_lexer": "ipython2",
   "version": "2.7.11"
  }
 },
 "nbformat": 4,
 "nbformat_minor": 0
}
